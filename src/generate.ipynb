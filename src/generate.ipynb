{
 "cells": [
  {
   "cell_type": "code",
   "execution_count": 57,
   "metadata": {},
   "outputs": [],
   "source": [
    "import logging\n",
    "import rdflib\n",
    "import pandas as pd\n",
    "import csv\n",
    "import os\n",
    "import jsonlines\n",
    "import re"
   ]
  },
  {
   "cell_type": "markdown",
   "metadata": {},
   "source": [
    "#### binding namespaces"
   ]
  },
  {
   "cell_type": "code",
   "execution_count": 2,
   "metadata": {},
   "outputs": [],
   "source": [
    "from rdflib import Namespace, Graph\n",
    "from rdflib.namespace import RDF, RDFS, OWL, XSD, DCTERMS\n",
    "\n",
    "g = Graph()\n",
    "\n",
    "SCHEMA = Namespace(\"https://schema.org/\")\n",
    "ONTOLEX = Namespace(\"http://www.w3.org/ns/lemon/ontolex#\")\n",
    "VARTRANS = Namespace(\"http://www.w3.org/ns/lemon/vartrans#\")\n",
    "LOC = Namespace(\"http://id.loc.gov/vocabulary/\")\n",
    "LEXINFO = Namespace(\"http://www.lexinfo.net/ontology/2.0/lexinfo#\")\n",
    "LIME = Namespace(\"http://www.w3.org/ns/lemon/lime#\")\n",
    "WORDNET = Namespace(\"https://globalwordnet.github.io/schemas/wn#\")\n",
    "LEXVO = Namespace(\"http://lexvo.org/id/term/\")\n",
    "LILA = Namespace(\"http://lila-erc.eu/ontologies/lila/\")\n",
    "\n",
    "WIKIENTITY = Namespace(\"http://www.wikidata.org/entity/\")\n",
    "WIKIPROP = Namespace(\"http://www.wikidata.org/prop/direct/\")\n",
    "WIKIBASE = Namespace(\"http://wikiba.se/ontology#\")\n",
    "BIGDATA = Namespace(\"http://www.bigdata.com/rdf#\")\n",
    "PROP = Namespace(\"http://www.wikidata.org/prop/\")\n",
    "STATEMENT = Namespace(\"http://www.wikidata.org/prop/statement/\")\n",
    "\n",
    "g.bind(\"rdf\", RDF)\n",
    "g.bind(\"rdfs\", RDFS)\n",
    "g.bind(\"xsd\", XSD)\n",
    "g.bind(\"dct\", DCTERMS)\n",
    "g.bind(\"owl\", OWL)\n",
    "\n",
    "g.bind(\"schema\", SCHEMA)\n",
    "g.bind(\"ontolex\", ONTOLEX)\n",
    "g.bind(\"vartrans\", VARTRANS)\n",
    "g.bind(\"loc\", LOC)\n",
    "g.bind(\"lexinfo\", LEXINFO)\n",
    "g.bind(\"lime\", LIME)\n",
    "g.bind(\"wn\", WORDNET)\n",
    "g.bind(\"lexvo\", LEXVO)\n",
    "g.bind(\"lila\", LILA)\n",
    "\n",
    "g.bind(\"wd\", WIKIENTITY)\n",
    "g.bind(\"wdt\", WIKIPROP)\n",
    "g.bind(\"wikibase\", WIKIBASE)\n",
    "g.bind( \"bd\", BIGDATA)\n",
    "g.bind(\"p\", PROP)\n",
    "g.bind(\"ps\", STATEMENT)\n"
   ]
  },
  {
   "cell_type": "markdown",
   "metadata": {},
   "source": [
    "#### define SPARQL queries"
   ]
  },
  {
   "cell_type": "code",
   "execution_count": 3,
   "metadata": {},
   "outputs": [],
   "source": [
    "from rdflib.plugins.sparql import prepareQuery\n",
    "\n",
    "lemma_query = prepareQuery(\"\"\" SELECT ?lemma \n",
    "    WHERE {\n",
    "        SERVICE <https://lila-erc.eu/sparql/lila_knowledge_base/sparql> {\n",
    "            ?lemma ontolex:writtenRep ?entry ;\n",
    "            lila:hasPOS ?pos .             \n",
    "        }\n",
    "    }                    \n",
    "    \"\"\", initNs = {'ontolex' : ONTOLEX, 'lila': LILA})"
   ]
  },
  {
   "cell_type": "markdown",
   "metadata": {},
   "source": [
    "#### dataset"
   ]
  },
  {
   "cell_type": "code",
   "execution_count": 62,
   "metadata": {},
   "outputs": [],
   "source": [
    "from rdflib import Literal, URIRef, BNode\n",
    "\n",
    "lkgDataset = '../data/lkg/dataset.jsonl'\n",
    "llkgGraph = '../data/llkg/llkg.ttl'\n",
    "llkg = Literal('LLKG')"
   ]
  },
  {
   "cell_type": "code",
   "execution_count": 68,
   "metadata": {},
   "outputs": [],
   "source": [
    "def setup_graph():\n",
    "    g.add((llkg, RDF.type, LIME.Lexicon))\n",
    "    g.add((llkg, RDFS.label, Literal('Linked Linguistic Knowledge Graph', lang='en')))\n",
    "    g.add((llkg, DCTERMS.language, Literal('English')))\n",
    "    g.add((Literal('English'), RDF.type, DCTERMS.LinguisticSystem))\n",
    "    g.add((Literal('English'), RDFS.label, Literal('English', lang='en')))\n",
    "    g.add((Literal('English'), DCTERMS.identifier, URIRef(LOC+'iso639-1/en')))\n",
    "    g.add((Literal('English'), DCTERMS.identifier, URIRef(LOC+'iso639-2/eng')))\n",
    "    g.add((llkg, SCHEMA.email, Literal('e.ghizzota@studenti.uniba.it')))\n",
    "\n",
    "def update_entry(entry):\n",
    "    g.add((llkg, LIME.entry, entry))\n"
   ]
  },
  {
   "cell_type": "code",
   "execution_count": 69,
   "metadata": {},
   "outputs": [],
   "source": [
    "def populate_lemmas():\n",
    "    lilaPosMapping = {'N' : LILA.noun, 'ADJ' : LILA.adjective, 'V' : LILA.verb}\n",
    "    lexinfoPosMapping = {'N' : LEXINFO.noun , 'ADJ' : LEXINFO.adjective, 'V' : LEXINFO.verb}\n",
    "    \n",
    "    with jsonlines.open(lkgDataset, 'r') as lkg:   \n",
    "        lemmas = (line for line in lkg if line['jtype'] == 'node' and line['label'] == 'Lemma')\n",
    "\n",
    "        lemmaID = 1\n",
    "        for line in lemmas:     \n",
    "            result = g.query(lemma_query, initBindings={'entry': Literal(line['properties']['value']), 'pos' : URIRef(lilaPosMapping[line['properties']['posTag']]) })\n",
    "            for r in result:\n",
    "                lemma = r.lemma\n",
    "                update_entry(lemma)     \n",
    "                g.add((lemma, RDF.type, ONTOLEX.Form))\n",
    "                g.add((lemma, RDFS.label, Literal(line['properties']['value'])))\n",
    "                g.add((lemma, DCTERMS.identifier, Literal(line['identity'], datatype=XSD.unsignedInt)))\n",
    "                g.add((lemma, DCTERMS.identifier, Literal('lemma_{}'.format(lemmaID), datatype=XSD.string)))\n",
    "                g.add((lemma, ONTOLEX.writtenRep, Literal(line['properties']['value'], lang='la'))) # NON ESISTE STANDARD PER LATINO\n",
    "                g.add((lemma, LEXINFO.partOfSpeech, URIRef(lexinfoPosMapping[line['properties']['posTag']])))\n",
    "                lemmaID = lemmaID + 1\n",
    "        \n",
    "        lkg.close()\n",
    "    g.serialize(format='ttl')\n",
    "    \n",
    "def populate_lexicalEntries():\n",
    "\n",
    "    g.add((Literal('Latin'), RDF.type, DCTERMS.LinguisticSystem))\n",
    "    g.add((Literal('Latin'), RDFS.label, Literal('Latin', lang='en')))\n",
    "    g.add((Literal('Latin'), DCTERMS.identifier, URIRef(LOC+'iso639-1/la')))\n",
    "    g.add((Literal('Latin'), DCTERMS.identifier, URIRef(LOC+'iso639-2/lat')))\n",
    "\n",
    "    with jsonlines.open(lkgDataset, 'r') as lkg:\n",
    "        lexicalEntries = (line for line in lkg if line['jtype'] == 'node' and line['label'] == 'InflectedWord')  \n",
    "        leID = 1\n",
    "        for line in lexicalEntries:\n",
    "            value = line['properties']['value'].lower()\n",
    "            word = URIRef(LEXVO+'lat/'+value)\n",
    "            if not (word, None, None) in g:\n",
    "                update_entry(word)\n",
    "                if bool(re.search(r'\\s', value)):\n",
    "                    g.add((word, RDF.type, ONTOLEX.MultiwordExpression))\n",
    "                elif value.startswith('-') or value.endswith('-'):\n",
    "                    g.add((word, RDF.type, ONTOLEX.Affix))\n",
    "                else:\n",
    "                    g.add((word, RDF.type, ONTOLEX.Word))\n",
    "                g.add((word, RDFS.label, Literal(value)))\n",
    "                g.add((word, DCTERMS.language, Literal('Latin')))\n",
    "                g.add((word, DCTERMS.identifier, Literal(line['identity'], datatype=XSD.unsignedInt)))\n",
    "                g.add((word, DCTERMS.identifier, Literal('le_{}'.format(leID), datatype=XSD.string)))\n",
    "                leID = leID + 1\n",
    "            else:\n",
    "                g.add((word, DCTERMS.identifier, Literal(line['identity'], datatype=XSD.unsignedInt)))\n",
    "        lkg.close()\n",
    "    g.serialize(format='ttl')\n",
    "\n",
    "def populate_lexicalSenses():\n",
    "    return 0\n",
    "\n",
    "def populate_relations():\n",
    "    with jsonlines.open(lkgDataset, 'r') as lkg:\n",
    "        relations = (line for line in lkg if line['jtype'] == 'relationship')\n",
    "\n",
    "        for line in relations:\n",
    "            if line['name'] == 'HAS_LEMMA':\n",
    "                subj = g.value(predicate=DCTERMS.identifier, object=Literal(line['subject'], datatype=XSD.unsignedInt))\n",
    "                obj = g.value(predicate=DCTERMS.identifier, object=Literal(line['object'], datatype=XSD.unsignedInt))\n",
    "                if subj != obj :\n",
    "                    g.add((URIRef(str(subj)), ONTOLEX.canonicalForm, URIRef(str(obj))))\n",
    "        lkg.close\n",
    "    g.serialize(format='ttl')\n",
    "    \n"
   ]
  },
  {
   "cell_type": "code",
   "execution_count": 70,
   "metadata": {},
   "outputs": [
    {
     "name": "stdout",
     "output_type": "stream",
     "text": [
      "[a rdfg:Graph;rdflib:storage [a rdflib:Store;rdfs:label 'Memory']].\n"
     ]
    }
   ],
   "source": [
    "g.remove((None, None, None))\n",
    "\n",
    "setup_graph()\n",
    "populate_lemmas()\n",
    "populate_lexicalEntries()\n",
    "populate_relations()\n",
    "\n",
    "print(g.serialize(destination=llkgGraph,format='ttl'))"
   ]
  }
 ],
 "metadata": {
  "kernelspec": {
   "display_name": "Python 3",
   "language": "python",
   "name": "python3"
  },
  "language_info": {
   "codemirror_mode": {
    "name": "ipython",
    "version": 3
   },
   "file_extension": ".py",
   "mimetype": "text/x-python",
   "name": "python",
   "nbconvert_exporter": "python",
   "pygments_lexer": "ipython3",
   "version": "3.10.11"
  }
 },
 "nbformat": 4,
 "nbformat_minor": 2
}
